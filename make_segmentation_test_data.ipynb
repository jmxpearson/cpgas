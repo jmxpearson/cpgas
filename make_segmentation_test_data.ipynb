{
 "cells": [
  {
   "cell_type": "markdown",
   "metadata": {},
   "source": [
    "# Make segmentation test data\n",
    "\n",
    "Let's make some data to test segmentation for Poisson observations."
   ]
  },
  {
   "cell_type": "code",
   "execution_count": 1,
   "metadata": {
    "collapsed": false
   },
   "outputs": [
    {
     "name": "stderr",
     "output_type": "stream",
     "text": [
      "WARNING: could not import Base.help into PyCall\n"
     ]
    }
   ],
   "source": [
    "using PyPlot\n",
    "using Distributions"
   ]
  },
  {
   "cell_type": "code",
   "execution_count": 2,
   "metadata": {
    "collapsed": true
   },
   "outputs": [],
   "source": [
    "srand(12345);"
   ]
  },
  {
   "cell_type": "markdown",
   "metadata": {},
   "source": [
    "## Set up constants"
   ]
  },
  {
   "cell_type": "code",
   "execution_count": 3,
   "metadata": {
    "collapsed": false
   },
   "outputs": [
    {
     "data": {
      "text/plain": [
       "0.05"
      ]
     },
     "execution_count": 3,
     "metadata": {},
     "output_type": "execute_result"
    }
   ],
   "source": [
    "# duration stuff\n",
    "\n",
    "T = 5  # total duration (in s)\n",
    "dt = 0.005  # bin size (in s)\n",
    "Nt = ceil(Int64, T / dt)\n",
    "\n",
    "μ = 0.1  # mean state duration (in s)\n",
    "σ = 0.05  # standard deviation of state duration (in s)"
   ]
  },
  {
   "cell_type": "code",
   "execution_count": 4,
   "metadata": {
    "collapsed": false
   },
   "outputs": [
    {
     "data": {
      "text/plain": [
       "3.0"
      ]
     },
     "execution_count": 4,
     "metadata": {},
     "output_type": "execute_result"
    }
   ],
   "source": [
    "# rates\n",
    "λ = 10.  # baseline rate (Hz)\n",
    "ν = 3.  # rate multiplier (Hz)"
   ]
  },
  {
   "cell_type": "markdown",
   "metadata": {},
   "source": [
    "## Make some intervals"
   ]
  },
  {
   "cell_type": "code",
   "execution_count": 5,
   "metadata": {
    "collapsed": false
   },
   "outputs": [],
   "source": [
    "durations = μ + σ * randn(Nt)\n",
    "changepoints = cumsum(durations)\n",
    "maxind = findlast(x -> x < T, changepoints)\n",
    "changepoints = changepoints[1:maxind];"
   ]
  },
  {
   "cell_type": "code",
   "execution_count": 6,
   "metadata": {
    "collapsed": false
   },
   "outputs": [],
   "source": [
    "taxis = dt:dt:T\n",
    "states = zeros(Float64, Nt)\n",
    "rates = fill(λ, Nt)\n",
    "\n",
    "for idx in 2:2:(length(changepoints) - 1)\n",
    "    in_state_1 = changepoints[idx] .< taxis .< changepoints[idx + 1]\n",
    "    states[in_state_1] = 1\n",
    "    rates[in_state_1] = ν * λ\n",
    "end"
   ]
  },
  {
   "cell_type": "code",
   "execution_count": 7,
   "metadata": {
    "collapsed": false
   },
   "outputs": [
    {
     "data": {
      "image/png": "[encoded data removed]",
      "text/plain": [
       "PyPlot.Figure(PyObject <matplotlib.figure.Figure object at 0x7f9cb038fed0>)"
      ]
     },
     "metadata": {},
     "output_type": "display_data"
    }
   ],
   "source": [
    "matshow(states', cmap=\"gray\", aspect=\"auto\");"
   ]
  },
  {
   "cell_type": "markdown",
   "metadata": {},
   "source": [
    "## Make counts"
   ]
  },
  {
   "cell_type": "code",
   "execution_count": 8,
   "metadata": {
    "collapsed": false
   },
   "outputs": [
    {
     "data": {
      "text/plain": [
       "Dict{Any,Distributions.Poisson} with 2 entries:\n",
       "  10.0 => Distributions.Poisson(λ=0.05)\n",
       "  30.0 => Distributions.Poisson(λ=0.15)"
      ]
     },
     "execution_count": 8,
     "metadata": {},
     "output_type": "execute_result"
    }
   ],
   "source": [
    "urates = unique(rates)\n",
    "dists = [r => Poisson(r * dt) for r in urates]"
   ]
  },
  {
   "cell_type": "code",
   "execution_count": 9,
   "metadata": {
    "collapsed": false
   },
   "outputs": [],
   "source": [
    "counts = Array(Int64, Nt)\n",
    "\n",
    "for r in urates\n",
    "    selection = rates .== r\n",
    "    counts[selection] = rand(dists[r], sum(selection))\n",
    "end"
   ]
  },
  {
   "cell_type": "code",
   "execution_count": 10,
   "metadata": {
    "collapsed": false
   },
   "outputs": [
    {
     "data": {
      "image/png": "[encoded data removed]",
      "text/plain": [
       "PyPlot.Figure(PyObject <matplotlib.figure.Figure object at 0x7f9c9a71f1d0>)"
      ]
     },
     "metadata": {},
     "output_type": "display_data"
    }
   ],
   "source": [
    "matshow(counts', cmap=\"gray\", aspect=\"auto\", clim=(0, 1));"
   ]
  },
  {
   "cell_type": "code",
   "execution_count": 11,
   "metadata": {
    "collapsed": false
   },
   "outputs": [],
   "source": [
    "using HDF5\n",
    "\n",
    "fid = h5open(\"data/basic_poisson_test.jld\", \"w\")\n",
    "\n",
    "grp = fid[\"/\"]\n",
    "grp[\"counts\"] = counts\n",
    "grp[\"rates\"] = rates\n",
    "grp[\"states\"] = states\n",
    "grp[\"base_rate\"] = λ\n",
    "grp[\"rate_gain\"] = ν\n",
    "\n",
    "close(fid)"
   ]
  },
  {
   "cell_type": "code",
   "execution_count": null,
   "metadata": {
    "collapsed": true
   },
   "outputs": [],
   "source": []
  }
 ],
 "metadata": {
  "kernelspec": {
   "display_name": "Julia 0.4.0-dev",
   "language": "julia",
   "name": "julia-0.4"
  },
  "language_info": {
   "name": "julia",
   "version": "0.4.0"
  }
 },
 "nbformat": 4,
 "nbformat_minor": 0
}
